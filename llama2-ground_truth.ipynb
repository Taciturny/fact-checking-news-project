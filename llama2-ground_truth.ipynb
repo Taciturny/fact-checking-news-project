{
 "cells": [
  {
   "cell_type": "code",
   "execution_count": 1,
   "id": "f499368e-4867-4040-9d3d-554ad388ccbe",
   "metadata": {
    "execution": {
     "iopub.execute_input": "2024-09-26T10:59:08.497781Z",
     "iopub.status.busy": "2024-09-26T10:59:08.497449Z",
     "iopub.status.idle": "2024-09-26T10:59:08.501069Z",
     "shell.execute_reply": "2024-09-26T10:59:08.500454Z",
     "shell.execute_reply.started": "2024-09-26T10:59:08.497758Z"
    }
   },
   "outputs": [],
   "source": [
    "import os\n",
    "os.environ['HF_HOME'] = '/run/cache/'"
   ]
  },
  {
   "cell_type": "code",
   "execution_count": null,
   "id": "deb9bca3-cc04-4612-839b-9c1b02dba9e1",
   "metadata": {},
   "outputs": [],
   "source": [
    "import pandas as pd\n",
    "# import json\n",
    "from typing import List\n",
    "# import torch\n",
    "from transformers import AutoTokenizer, AutoModelForCausalLM, BitsAndBytesConfig\n",
    "from huggingface_hub import login"
   ]
  },
  {
   "cell_type": "code",
   "execution_count": null,
   "id": "40fb8015-475a-43d2-8bb1-00c92d92f57e",
   "metadata": {},
   "outputs": [],
   "source": []
  },
  {
   "cell_type": "code",
   "execution_count": null,
   "id": "696fc66f-19bc-4fc0-848a-28a4528accdc",
   "metadata": {},
   "outputs": [],
   "source": []
  },
  {
   "cell_type": "code",
   "execution_count": null,
   "id": "d7af8221-5896-49b1-bf0d-8d3d3c4636f4",
   "metadata": {},
   "outputs": [],
   "source": []
  },
  {
   "cell_type": "code",
   "execution_count": null,
   "id": "a55625e5-68d5-413f-9201-eccf534ca322",
   "metadata": {},
   "outputs": [],
   "source": []
  },
  {
   "cell_type": "code",
   "execution_count": null,
   "id": "7929c68b-047f-4b2b-b7ad-d7b821759fab",
   "metadata": {},
   "outputs": [],
   "source": []
  },
  {
   "cell_type": "code",
   "execution_count": null,
   "id": "48680fba-bde6-4241-925e-de4470113bf4",
   "metadata": {},
   "outputs": [],
   "source": []
  }
 ],
 "metadata": {
  "kernelspec": {
   "display_name": "saturn (Python 3)",
   "language": "python",
   "name": "python3"
  },
  "language_info": {
   "codemirror_mode": {
    "name": "ipython",
    "version": 3
   },
   "file_extension": ".py",
   "mimetype": "text/x-python",
   "name": "python",
   "nbconvert_exporter": "python",
   "pygments_lexer": "ipython3",
   "version": "3.12.5"
  }
 },
 "nbformat": 4,
 "nbformat_minor": 5
}
